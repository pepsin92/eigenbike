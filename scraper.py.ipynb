{
 "cells": [
  {
   "cell_type": "code",
   "execution_count": 30,
   "metadata": {
    "collapsed": true
   },
   "outputs": [
    {
     "name": "stdout",
     "output_type": "stream",
     "text": [
      "road https://kaktusbike.sk/cestne-bicykle/n,a,60,0\n"
     ]
    },
    {
     "name": "stdout",
     "output_type": "stream",
     "text": [
      "road https://kaktusbike.sk/cestne-bicykle/n,a,60,60\n"
     ]
    },
    {
     "name": "stdout",
     "output_type": "stream",
     "text": [
      "road https://kaktusbike.sk/cestne-bicykle/n,a,60,120\n"
     ]
    },
    {
     "name": "stdout",
     "output_type": "stream",
     "text": [
      "city https://kaktusbike.sk/mestske-bicykle-skladacky/n,a,60,0\n"
     ]
    },
    {
     "name": "stdout",
     "output_type": "stream",
     "text": [
      "city https://kaktusbike.sk/mestske-bicykle-skladacky/n,a,60,60\n"
     ]
    },
    {
     "name": "stdout",
     "output_type": "stream",
     "text": [
      "mtb https://kaktusbike.sk/horske-bicykle-celoodpruzene/n,a,60,0\n"
     ]
    },
    {
     "name": "stdout",
     "output_type": "stream",
     "text": [
      "mtb https://kaktusbike.sk/horske-bicykle-celoodpruzene/n,a,60,60\n"
     ]
    }
   ],
   "source": [
    "import requests_html\n",
    "import requests\n",
    "import os\n",
    "from time import sleep\n",
    "from urllib.parse import urljoin\n",
    "from itertools import count\n",
    "\n",
    "base_url = 'https://kaktusbike.sk'\n",
    "base_dir = './data'\n",
    "request_frequency = 5\n",
    "\n",
    "session = requests_html.HTMLSession()\n",
    "\n",
    "\n",
    "def parse_category(name, category_url):\n",
    "    previous = None\n",
    "    for i in count(0, 60):\n",
    "        page = 'n,a,60,{}'.format(i)\n",
    "        page_url = urljoin(base_url, category_url+'/'+page)\n",
    "        print(name, page_url)\n",
    "        r = session.get(page_url)\n",
    "        if r.url == previous:\n",
    "            break\n",
    "        previous = r.url\n",
    "        \n",
    "        bikes = r.html.find('.thumb')\n",
    "        \n",
    "        # print(*[x.attrs['longdesc'] for x in bikes], sep='\\n')\n",
    "        \n",
    "        for j, img_url in enumerate([x.attrs['longdesc'] for x in bikes]):\n",
    "            response = requests.get(img_url, stream=True)\n",
    "            if response.ok:\n",
    "                fn = '/'.join((base_dir, name, str(i+j)+'.jpeg'))\n",
    "                with open(fn, 'wb') as f:\n",
    "                    for x in response.iter_content(1024):\n",
    "                        f.write(x)\n",
    "            else:\n",
    "                print(response)\n",
    "            sleep(1/request_frequency)\n",
    "        \n",
    "        if i>200:\n",
    "            break\n",
    "\n",
    "\n",
    "categories = {'road': 'cestne-bicykle',\n",
    "              'city':'mestske-bicykle-skladacky',\n",
    "              'mtb':'horske-bicykle-celoodpruzene'\n",
    "              }\n",
    "\n",
    "for k, v in categories.items():\n",
    "    try:\n",
    "        os.makedirs(base_dir+'/'+k)\n",
    "    except OSError:\n",
    "        pass\n",
    "    parse_category(k, v)\n"
   ]
  },
  {
   "cell_type": "code",
   "execution_count": null,
   "metadata": {},
   "outputs": [],
   "source": []
  }
 ],
 "metadata": {
  "kernelspec": {
   "display_name": "Python 2",
   "language": "python",
   "name": "python2"
  },
  "language_info": {
   "codemirror_mode": {
    "name": "ipython",
    "version": 2
   },
   "file_extension": ".py",
   "mimetype": "text/x-python",
   "name": "python",
   "nbconvert_exporter": "python",
   "pygments_lexer": "ipython2",
   "version": "2.7.6"
  }
 },
 "nbformat": 4,
 "nbformat_minor": 0
}
